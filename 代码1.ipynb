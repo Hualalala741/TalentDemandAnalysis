{
 "cells": [
  {
   "cell_type": "code",
   "execution_count": 1,
   "metadata": {},
   "outputs": [],
   "source": [
    "import warnings\n",
    "import wordcloud\n",
    "import json\n",
    "from datetime import datetime\n",
    "import pandas as pd\n",
    "import numpy as np\n",
    "import matplotlib.pyplot as plt\n",
    "from sklearn.cluster import KMeans\n",
    "from sklearn import metrics\n",
    "from sklearn import preprocessing\n",
    "from sklearn.preprocessing import PolynomialFeatures\n",
    "from sklearn.linear_model import LinearRegression\n",
    "import re\n",
    "from wordcloud import WordCloud\n",
    "import jieba\n",
    "import xgboost as xgb"
   ]
  },
  {
   "cell_type": "code",
   "execution_count": 55,
   "metadata": {
    "collapsed": true
   },
   "outputs": [
    {
     "data": {
      "text/plain": [
       "0                  [职位, 描述,  , Android, 平台, 手机软件, 设计, 开发, 需求, 分析,  , 任职,  , 熟练掌握, java, 技术, 熟悉, 面向对象编程, 设计, 具备, 扎实, 编程, 基础,  , 精通, Android, 开发, 平台, 框架, 原理, 面向对象, 开发, 理解,  , 具备, 熟练, 技术, 调研, 能力, 可行性,  , 两年, Android, 端, 互联网, 开发, 经验,  , 熟练, 即时通讯, 开发, 消息, 推送, 开发, 经验,  , 具备, 团队, 合作, 能力, 沟通, 能力, 强, 自我, 提升, 学习, 能力,  , 优先, 录用, 条件,  , 研究, 阅读,  , Android,  , 系统, 源码,  , 支付, 网上银行, 消息, 推送, 即时通讯, 相关, 软件开发, 经验,  , 熟悉, NDK, 编程, 相关, 经验]\n",
       "1     [ , 岗位, 描述, 前端, 框架, 设计,  ,  , 业务, 模块, 前端, 代码, 开发,  ,  , 平台, 易用性, 用户, 体验, 持续, 改进,  ,  , Web, 前沿技术, 研究, 新, 技术, 调研,  , 岗位,  , 精通, Web, 前端, 技术,  , 包括, HTML, CSS, Javascript,  ,  , 精通, JS, 对象, 编程,  , 熟练, jquery, 动态, 网页, 开发,  ,  , Ajax, Jsonp, 开发, 经验,  ,  ,  , NodeJS,  ,  , Html5,  , 相关, 技术, 熟悉, HTTP, 协议, Apache, 模块, cookie, Web, 技术,  ,  , 技术, 视野, 广阔,  , 乐于, 学习, 新, 知识, 新, 技术,  , 工作, 中,  ,  , 个性, 乐观, 开朗,  , 逻辑性, 强, ...]\n",
       "2                               [\\n,  , 岗位职责,  , \\n,  , 负责, 日常, 款项, 支付, 境内外, 网银, 转帐, 汇款, 日常, 往来账, 核对,  , \\n,  , 负责, 公司, 分公司, 费用, 报销, 核查, 支付,  , \\n,  , 负责, 公司, 资金, 日报, 周报, 月, 报, 填报, 发送, 定时, 汇报, 资金, 异常情况,  , \\n,  , 负责, 总部, 分公司, 网银, 管理, 银企, 对账, 资金分配,  , \\n,  , 负责, 银行, 日常, 对接, 沟通, 负责, 各类, 账户, 如开, 销户, 外汇, 结售汇,  , \\n,  , 领导, 安排, 工作,  , \\n,  ,  , \\n,  , 任职,  , \\n,  , 出纳, 工作, 经验, 年, 最少, 年, 超过, 15, 年,  , \\n,  , 工作, 稳定, 频繁, ...]\n",
       "3                         [\\n,  , 岗位职责,  , \\n,  , 无线通信, 系统, 性能, 测试, 分析, 包括, 常见, 标准, 无线通信, 系统, 私有, 协议, 标准, 系统,  , \\n,  , 射频, 系统, 性能, 预算, 系统, 仿真, 系统, 性能, 分析,  , \\n,  , 射频, 生产, 自动测试, 夹具, 测试, 方案, 测试, 算法, 开发,  , \\n,  , 板级, 性能, 分析, 仿真, 包括, 频率, 规划, 链路, 分析, 射频, 失真, 分析, 系统, 共存, 板级, 系统, 级,  , \\n,  , 射频, 器件, 选型, 射频, 电路仿真, 设计, 调试,  , \\n,  , \\n,  , 任职, 资格,  , \\n,  , 熟悉, 射频, 前端, 芯片, 常见, 测试, 校准, 方法,  , \\n,  , 扎实, 射频, 微波, 理论, 测试, ...]\n",
       "4                    [天生, 冠军, 职位, 设, 起点, 高, 低, 目标, NO1, 校园生活, 社会, 经验, 发掘, 自我, 发掘, 潜在, 能力, 新, 机遇, 面前, 请, 迎接, 未来,  , 尚德, 机构, 职业, 教育, 培训, 机构, 北, 广, 深等, 一线, 省会, 城市, 皆,  , 分校, 员工, 2000, 余人, 2014, 年, 公司, 战略, 布局, 全国, 200, 城市, 设立, 分校, 目标, 做好, 2015, 一线, 精英, 2016, 年, 分校, 元老, 享受, 公司, 成熟, 运作, 模式, 支持, 增长, 业务, 能力,  , ★,  , 这是, 年轻, 团队, 专注, 做事, 一段, 精彩, 人生, 期待, 成长,  , 地铁, 尚德, 机构, 广告, 学习, 信仰, 希望, 公司, 一员, 奋斗, 学习, 成长,  , 工作, 地点, 北京市, ...]\n",
       "                                                                                                                                                                                                                    ...                                                                                                                                                                                                               \n",
       "95                                                   [\\n,  , 岗位职责,  , \\n,  ,  ,  ,  , 协助, 销售, 总监, 日常, 工作,  , \\n,  ,  ,  ,  , 负责, 汇总, 整理, 部门, 资料, 销售, 数据,  , \\n,  ,  ,  ,  , 负责, 接待, 来访, 客户, 协调, 公司, 内部, 日常事务,  , \\n,  ,  ,  ,  , 领导, 交办, 事项,  , \\n,  ,  , \\n,  , 任职,  , \\n,  ,  ,  ,  , 大学专科, 以上学历,  , \\n,  ,  ,  ,  , 熟悉, 办公, 软件, 文字, 撰写, 能力,  , \\n,  ,  ,  ,  , 较强, 沟通, 执行, 能力, 责任心, 团队, 意识,  , \\n,  ,  ,  ,  , 责任心, 细致, 耐心, 强, ...]\n",
       "96                           [\\n,  , 工作, 职责,  , \\n,  , 挖掘, 公司, 云, 存储, 服务, 行业, 互联网, 行业, 销售, 机会,  , \\n,  , 描述, 潜在, 客户, 数据, 存储, cdn, 加速, 领域, 需求,  , \\n,  , 组织协调, 公司, 技术, 资源, 客户, 解决方案, 需求,  , \\n,  , 负责, 客户, 合同, 签署, 收款, 跟进, 关系, 维护, 持续, 合作,  , \\n,  , \\n,  , 任职,  , \\n,  , 1.3, 年, 互联网, cdn, 云, 计算, 基础, 硬件, 设施, 行业, 销售, 市场, 经验,  , \\n,  , 热爱, 社交, 产品, 微博, 微信, 互联, 创新, 产品, 工具,  , \\n,  , 国内外, 主流, 云, 平台, 服务商, AWS, 阿里, 云, 百度, 云, 产品, ...]\n",
       "97                                                       [职位, 描述,  ,  , 互联网, 销售, 产品, 推广,  , 吃苦耐劳, 想法, 目标, 梦想, 敬请, 报名,  , 任职, 资格,  , 想法, 目标, 梦想, 优先, 报名, 男女, 限,  , 具备, 较强, 学习, 能力, 沟通, 能力,  , 团队, 合作, 意识,  , 基础, 福利,  , 薪资, 底薪, 6000, 五险, 高, 提点, 额外, 奖励, 晋升, 空间, 定期, 带薪, 国内外, 游, 开阔视野, 增长, 知识,  , 年底, 双薪, 年终奖, 年, 中, 年底, 特别, 奖励, 节假日, 福利,  , 年, 假, 婚假, 产假, 丧假, 满薪, 假,  , 享受, 年度, 季度, 月度, 提供, 出国游, 数码产品, 购物, 卡, 业绩, 奖励,  , 培训, 带薪, 专业培训]\n",
       "98                                                                         [产品, 信息, 搜集整理, 编撰,  , 旅游, 产品, 文字, 简单, 编译, 工作,  , 旅游, 产品, 维护, 更新, 包括, 文字, 图片, 整理, 编辑,  , 销售, 平台, 产品, 信息, 二次, 加工, 内容, 提升, 交易, 转化,  , 任职,  , 本科, 以上学历, 新闻, 传播, 电子商务, 市场营销, 相关, 专业,  , 熟练掌握, 英语, 外, 门, 外语, 优先,  , 熟练, 办公, 软件, Photoshop, Dreamweaver, 工具软件, 优先,  , 热爱, 旅行, 旅游, 行业, 优先,  , 责任心, 强, 工作, 细致, 耐心, 性格开朗, 创新, 精神,  , 沟通, 能力, 团队, 合作, 精神, 高强度, 工作, 节奏]\n",
       "99                              [尚德, 机构, 中国, 职业, 教育, 培训, 机构, 北, 广, 深等, 一线, 省会, 城市, 皆,  , 分校, 员工,  , 3000,  , 余人,  , 2014,  , 年, 公司, 战略, 布局, 全国,  , 200,  , 城市, 设立, 分校, 目标, 做好,  , 2015,  , 一线, 精英,  , 2016,  , 年, 分校, 元老, 享受, 公司, 成熟, 运作, 模式, 支持, 增长, 业务, 能力,  , ★,  , 这是, 年轻, 团队, 专注, 做事, 一段, 精彩, 人生, 期待, 成长,  , 地铁, 尚德, 机构, 广告, 学习, 信仰, 希望, 公司, 一员, 奋斗, 学习, 成长,  , 产品, 自考,  , MBA,  , 注, 人力, 会计, 课程, 包括, 面授, 远程, 在线, 直播, 形式,  , ...]\n",
       "Name: cut, Length: 100, dtype: object"
      ]
     },
     "execution_count": 55,
     "metadata": {},
     "output_type": "execute_result"
    }
   ],
   "source": [
    "with open(r\"D:/gyt的D盘文件夹/暑假项目二/stoplist.txt\",'r',encoding='utf-8') as f:\n",
    "    stoplist = f.read()\n",
    "stoplist = stoplist.split()+['\\n','',' ',',','\\n']\n",
    "data_new = df22['cut'].iloc[0:100].apply(lambda x:[i for i in x if i not in stoplist])\n",
    "df22['cut'].iloc[0:100]"
   ]
  },
  {
   "cell_type": "code",
   "execution_count": 30,
   "metadata": {
    "collapsed": true
   },
   "outputs": [
    {
     "name": "stderr",
     "output_type": "stream",
     "text": [
      "100%|███████████████████████████████████████████████████████████████████████| 402627/402627 [10:40:59<00:00, 10.47it/s]\n"
     ]
    }
   ],
   "source": [
    "for i in tqdm(range(len(df22['Job_Description']))):\n",
    "    words=jieba.lcut(df22['Job_Description'][i])\n",
    "    df22['cut'][i]=[w for w in words if w not in list(tmpdf.w)]\n",
    "mywordList=[]\n",
    "for i in df22.cut:\n",
    "    mywordList.append(i)\n",
    "wordList=[x for item in mywordList for x in item]\n",
    "wordList=[w for w in wordList if w not in [' ','\\n']]#再去一下\n",
    "comment=' '.join(wordList)"
   ]
  },
  {
   "cell_type": "code",
   "execution_count": 31,
   "metadata": {},
   "outputs": [],
   "source": [
    "df22.to_csv('D:\\gyt的D盘文件夹\\建模课设\\大大大分词结果.csv')"
   ]
  },
  {
   "cell_type": "markdown",
   "metadata": {},
   "source": [
    "# 分词"
   ]
  },
  {
   "cell_type": "code",
   "execution_count": 2,
   "metadata": {},
   "outputs": [],
   "source": [
    "df=pd.read_csv('D:\\gyt的D盘文件夹\\建模课设\\大大大分词结果.csv')\n",
    "df=df[['PositionId','cut']]"
   ]
  },
  {
   "cell_type": "code",
   "execution_count": 3,
   "metadata": {},
   "outputs": [],
   "source": [
    "df=df.sample(frac=0.1,random_state=2021)\n",
    "df=df.reset_index(drop=True)"
   ]
  },
  {
   "cell_type": "code",
   "execution_count": 4,
   "metadata": {},
   "outputs": [],
   "source": [
    "df['词']=0"
   ]
  },
  {
   "cell_type": "code",
   "execution_count": 5,
   "metadata": {
    "scrolled": true
   },
   "outputs": [
    {
     "name": "stderr",
     "output_type": "stream",
     "text": [
      "100%|██████████████████████████████████████████████████████████████████████████| 40263/40263 [00:09<00:00, 4202.04it/s]\n"
     ]
    }
   ],
   "source": [
    "from tqdm import tqdm\n",
    "str_pat = re.compile(r'\\'(.*?)\\'')\n",
    "for i in tqdm(range(len(df.cut))):\n",
    "    text=df.cut[i]\n",
    "    df['词'][i]=str_pat.findall(text)  "
   ]
  },
  {
   "cell_type": "code",
   "execution_count": 6,
   "metadata": {},
   "outputs": [],
   "source": [
    "m_stoplist=[' ','\\n','\\\\n','日常','熟悉','新','nan','强大','年','工作','相关','能力','优先','负责','团队','公司','平台','年','项目','强','具备','行业','提供','以上学历','岗位职责','任职','中','职位','参与','至少','较强','一种','建立','支持','岗位']#再去一下\n",
    "m_stoplist=set(m_stoplist)"
   ]
  },
  {
   "cell_type": "code",
   "execution_count": 7,
   "metadata": {},
   "outputs": [],
   "source": [
    "df=df[~(df['cut']==\"['nan']\")]\n",
    "df.reset_index(drop=True,inplace=True)"
   ]
  },
  {
   "cell_type": "code",
   "execution_count": 8,
   "metadata": {},
   "outputs": [],
   "source": [
    "df['词fenfen']=0"
   ]
  },
  {
   "cell_type": "code",
   "execution_count": 9,
   "metadata": {},
   "outputs": [
    {
     "name": "stderr",
     "output_type": "stream",
     "text": [
      "100%|██████████████████████████████████████████████████████████████████████████| 36560/36560 [00:07<00:00, 4636.20it/s]\n"
     ]
    }
   ],
   "source": [
    "for i in tqdm(range(len(df.cut))):\n",
    "    wordList=[w for w in df['词'][i] if w not in m_stoplist]\n",
    "    comment=' '.join(wordList)\n",
    "    df['词fenfen'][i]=comment"
   ]
  },
  {
   "cell_type": "code",
   "execution_count": 3,
   "metadata": {},
   "outputs": [],
   "source": [
    "# df.to_csv('D:\\gyt的D盘文件夹\\建模课设\\结果结果.csv')\n",
    "# df=pd.read_csv('D:\\gyt的D盘文件夹\\建模课设\\结果结果.csv')"
   ]
  },
  {
   "cell_type": "code",
   "execution_count": 4,
   "metadata": {},
   "outputs": [],
   "source": [
    "df=df[['PositionId','词5']]\n",
    "df.dropna(axis=0, how='any', inplace=True)\n",
    "df.reset_index(drop=True,inplace=True)"
   ]
  },
  {
   "cell_type": "code",
   "execution_count": 38,
   "metadata": {
    "collapsed": true
   },
   "outputs": [
    {
     "data": {
      "text/plain": [
       "['描述',\n",
       " '前端',\n",
       " '框架',\n",
       " '设计',\n",
       " '业务',\n",
       " '模块',\n",
       " '前端',\n",
       " '代码',\n",
       " '开发',\n",
       " '易用性',\n",
       " '用户',\n",
       " '体验',\n",
       " '持续',\n",
       " '改进',\n",
       " 'Web',\n",
       " '前沿技术',\n",
       " '研究',\n",
       " '新',\n",
       " '技术',\n",
       " '调研',\n",
       " '精通',\n",
       " 'Web',\n",
       " '前端',\n",
       " '技术',\n",
       " '包括',\n",
       " 'HTML',\n",
       " 'CSS',\n",
       " 'Javascript',\n",
       " '精通',\n",
       " 'JS',\n",
       " '对象',\n",
       " '编程',\n",
       " '熟练',\n",
       " 'jquery',\n",
       " '动态',\n",
       " '网页',\n",
       " '开发',\n",
       " 'Ajax',\n",
       " 'Jsonp',\n",
       " '开发',\n",
       " '经验',\n",
       " 'NodeJS',\n",
       " 'Html5',\n",
       " '技术',\n",
       " 'HTTP',\n",
       " '协议',\n",
       " 'Apache',\n",
       " '模块',\n",
       " 'cookie',\n",
       " 'Web',\n",
       " '技术',\n",
       " '技术',\n",
       " '视野',\n",
       " '广阔',\n",
       " '乐于',\n",
       " '学习',\n",
       " '新',\n",
       " '知识',\n",
       " '新',\n",
       " '技术',\n",
       " '个性',\n",
       " '乐观',\n",
       " '开朗',\n",
       " '逻辑性',\n",
       " '乐于',\n",
       " '合作',\n",
       " 'Web',\n",
       " '前沿技术',\n",
       " '研究',\n",
       " '新',\n",
       " '技术',\n",
       " '调研']"
      ]
     },
     "execution_count": 38,
     "metadata": {},
     "output_type": "execute_result"
    }
   ],
   "source": [
    "wordList=[w for w in df['词'][1] if w not in m_stoplist]\n",
    "wordList"
   ]
  },
  {
   "cell_type": "code",
   "execution_count": 10,
   "metadata": {},
   "outputs": [],
   "source": [
    "df=df[['PositionId','词fenfen']]\n",
    "df.dropna(axis=0, how='any', inplace=True)\n",
    "df.reset_index(drop=True,inplace=True)"
   ]
  },
  {
   "cell_type": "markdown",
   "metadata": {},
   "source": [
    "## 提取关键词"
   ]
  },
  {
   "cell_type": "code",
   "execution_count": null,
   "metadata": {},
   "outputs": [],
   "source": [
    "document = [\" \".join(sent0) for sent0 in sent_words]"
   ]
  },
  {
   "cell_type": "code",
   "execution_count": 11,
   "metadata": {},
   "outputs": [],
   "source": [
    "from sklearn.feature_extraction.text import TfidfVectorizer\n",
    "# tf = TfidfVectorizer(analyzer='word',ngram_range=(1, 2),min_df=0, stop_words='english')\n",
    "# tfidf_matrix = tf.fit_transform(df1['genres'])\n",
    "tfidf_vectorizer = TfidfVectorizer(max_features=1000)\n",
    "tfidf_matrix = tfidf_vectorizer.fit_transform(df['词fenfen']) # 向量化剧情简介文本\n",
    "# print(tfidf_matrix.shape)                     #(100, 563)，100个电影记录，每个电影后边有563个词\n",
    " \n",
    "terms = tfidf_vectorizer.get_feature_names()  #terms” 这个变量只是 tf-idf 矩阵中的特征（features）表，也是一个词汇表\n",
    "zdf=tfidf_matrix.toarray()"
   ]
  },
  {
   "cell_type": "code",
   "execution_count": 47,
   "metadata": {},
   "outputs": [
    {
     "data": {
      "text/plain": [
       "(36560, 1000)"
      ]
     },
     "execution_count": 47,
     "metadata": {},
     "output_type": "execute_result"
    }
   ],
   "source": [
    "zdf.shape"
   ]
  },
  {
   "cell_type": "code",
   "execution_count": 23,
   "metadata": {},
   "outputs": [],
   "source": [
    "from sklearn import metrics\n",
    "def score_X(zdf,pre):\n",
    "    score_ca=metrics.calinski_harabasz_score(zdf,pre)\n",
    "    score_si=metrics.silhouette_score(zdf,pre)\n",
    "    return score_si,score_ca"
   ]
  },
  {
   "cell_type": "code",
   "execution_count": 12,
   "metadata": {},
   "outputs": [],
   "source": [
    "import numpy as np\n",
    "from sklearn.cluster import KMeans\n",
    "from scipy.spatial.distance import cdist  # 计算距离时\n",
    "import matplotlib.pyplot as plt\n",
    "# from matplotlib.font_manager import FontProperties\n",
    "# 正常显示中文字体\n",
    "# font = FontProperties(fname=r\"c:\\windows\\fonts\\msyh.ttc\", size=10) \n",
    "plt.rcParams['font.sans-serif'] = ['SimHei'] \n",
    "plt.rcParams['axes.unicode_minus'] = False\n",
    "\n",
    "# K = range(2, 10)\n",
    "# meandistortions_km = []\n",
    "# score_km=[]\n",
    "\n",
    "# for k in K:\n",
    "#     print('-----------'+str(k)+'------------')\n",
    "#     kmeans = KMeans(n_clusters=k)\n",
    "#     kmeans.fit(zdf)\n",
    "#     meandistortions_km.append(sum(np.min(cdist(zdf, kmeans.cluster_centers_, 'euclidean'), axis=1)) / zdf.shape[0])\n",
    "#     s1,s2,s3=score_X(zdf,kmeans.fit_predict(zdf))\n",
    "#     score_km.append({'k':k,'s1':s1,'s2':s2,'s3':s3})\n",
    "# df_score_km = pd.DataFrame(score_km)"
   ]
  },
  {
   "cell_type": "code",
   "execution_count": 23,
   "metadata": {},
   "outputs": [
    {
     "name": "stdout",
     "output_type": "stream",
     "text": [
      "[0.01942879]\n"
     ]
    }
   ],
   "source": [
    "import numpy as np\n",
    "from sklearn.decomposition import PCA\n",
    "# X = np.array([[-1, -1], [-2, -1], [-3, -2], [1, 1], [2, 1], [3, 2]])\n",
    "pca = PCA(n_components=1)\n",
    "pca.fit(zdf.astype('float32'))\n",
    "\n",
    "print(pca.explained_variance_ratio_)\n"
   ]
  },
  {
   "cell_type": "code",
   "execution_count": 41,
   "metadata": {},
   "outputs": [],
   "source": [
    "zdf=zdf.astype('float16')"
   ]
  },
  {
   "cell_type": "code",
   "execution_count": null,
   "metadata": {},
   "outputs": [],
   "source": []
  },
  {
   "cell_type": "code",
   "execution_count": 23,
   "metadata": {},
   "outputs": [
    {
     "name": "stdout",
     "output_type": "stream",
     "text": [
      "-----------2------------\n",
      "-----------3------------\n",
      "-----------4------------\n",
      "-----------5------------\n",
      "-----------6------------\n",
      "-----------7------------\n",
      "-----------8------------\n",
      "-----------9------------\n"
     ]
    }
   ],
   "source": [
    "#迷你km\n",
    "from sklearn import cluster\n",
    "K = range(2, 10)\n",
    "meandistortions_mnkm = []\n",
    "score_mnkm=[]\n",
    "\n",
    "for k in K:\n",
    "    print('-----------'+str(k)+'------------')\n",
    "    mnkmeans = cluster.MiniBatchKMeans(n_clusters=k,batch_size=100)\n",
    "    mnkmeans.fit(zdf)\n",
    "    meandistortions_mnkm.append(sum(np.min(cdist(zdf, mnkmeans.cluster_centers_, 'euclidean'), axis=1)) / zdf.shape[0])\n",
    "#     s1,s2=score_X(zdf,mnkmeans.fit_predict(zdf))\n",
    "#     score_mnkm.append({'k':k,'s1':s1,'s2':s2})\n",
    "\n",
    "# df_score_mnkm = pd.DataFrame(score_mnkm)"
   ]
  },
  {
   "cell_type": "code",
   "execution_count": 24,
   "metadata": {},
   "outputs": [
    {
     "data": {
      "image/png": "[encoded data removed]",
      "text/plain": [
       "<Figure size 432x288 with 1 Axes>"
      ]
     },
     "metadata": {
      "needs_background": "light"
     },
     "output_type": "display_data"
    }
   ],
   "source": [
    "# df_score_km = pd.DataFrame(score_km)\n",
    "plt.plot(K, meandistortions_mnkm,marker='v',color='gold', mec='r', mfc='w',linewidth=1.8)\n",
    "plt.xlabel('k')\n",
    "plt.ylabel(u'平均畸变程度')\n",
    "plt.title(u'用肘部法则来确定最佳的K值')\n",
    "plt.savefig('D:\\gyt的D盘文件夹\\建模课设\\mn聚类图4.png',dpi=600)"
   ]
  },
  {
   "cell_type": "code",
   "execution_count": 48,
   "metadata": {},
   "outputs": [
    {
     "data": {
      "text/plain": [
       "MiniBatchKMeans()"
      ]
     },
     "execution_count": 48,
     "metadata": {},
     "output_type": "execute_result"
    }
   ],
   "source": [
    "from sklearn import cluster\n",
    "mnkmeans = cluster.MiniBatchKMeans(n_clusters=8,batch_size=100)\n",
    "mnkmeans.fit(zdf)"
   ]
  },
  {
   "cell_type": "code",
   "execution_count": 49,
   "metadata": {},
   "outputs": [
    {
     "data": {
      "text/plain": [
       "array([[0.01152222, 0.00668151, 0.00308798, ..., 0.00291317, 0.00198826,\n",
       "        0.00127202],\n",
       "       [0.00195225, 0.0083836 , 0.00407493, ..., 0.00356201, 0.00044531,\n",
       "        0.00648839],\n",
       "       [0.00073047, 0.00680034, 0.002222  , ..., 0.00173216, 0.        ,\n",
       "        0.00216373],\n",
       "       ...,\n",
       "       [0.00179891, 0.00252337, 0.00098834, ..., 0.00176053, 0.00036453,\n",
       "        0.00748426],\n",
       "       [0.00253664, 0.00952998, 0.00336711, ..., 0.00280843, 0.        ,\n",
       "        0.00032673],\n",
       "       [0.00361095, 0.00447147, 0.00288128, ..., 0.00317521, 0.0002641 ,\n",
       "        0.00901392]])"
      ]
     },
     "execution_count": 49,
     "metadata": {},
     "output_type": "execute_result"
    }
   ],
   "source": [
    "mnkmeans.cluster_centers_"
   ]
  },
  {
   "cell_type": "code",
   "execution_count": 17,
   "metadata": {},
   "outputs": [],
   "source": [
    "df['类别']=mnkmeans.labels_"
   ]
  },
  {
   "cell_type": "code",
   "execution_count": 14,
   "metadata": {},
   "outputs": [],
   "source": [
    "df2=pd.read_csv('D:/gyt的D盘文件夹/建模课设/C题：附件/附件1：招聘信息.csv', encoding = 'gb18030') "
   ]
  },
  {
   "cell_type": "code",
   "execution_count": 15,
   "metadata": {},
   "outputs": [],
   "source": [
    "df2 = df2.drop_duplicates('PositionId').reset_index(drop=True)\n"
   ]
  },
  {
   "cell_type": "code",
   "execution_count": 18,
   "metadata": {
    "scrolled": false
   },
   "outputs": [],
   "source": [
    "df3=pd.merge(df,df2,on='PositionId',how='left')[['PositionId','类别','IndustryField','PositionType']]\n",
    "# df3"
   ]
  },
  {
   "cell_type": "code",
   "execution_count": 27,
   "metadata": {},
   "outputs": [],
   "source": [
    "gb=df3.groupby('类别')"
   ]
  },
  {
   "cell_type": "code",
   "execution_count": 54,
   "metadata": {},
   "outputs": [
    {
     "name": "stderr",
     "output_type": "stream",
     "text": [
      "100%|███████████████████████████████████████████████████████████████████████████████| 20/20 [00:00<00:00, 20058.84it/s]\n"
     ]
    }
   ],
   "source": [
    "from tqdm import tqdm\n",
    "df3[2]\n",
    "str_pat = re.compile(r'(.*?)k')\n",
    "str_1=re.compile(r'-(.*?)k')\n",
    "for i in tqdm(range(len(df3.Salary.head(20)))):\n",
    "    text=df3.Salary[i]\n",
    "    (int(str_pat.findall(text)[0])+int(str_1.findall(text)[0]))/2"
   ]
  },
  {
   "cell_type": "code",
   "execution_count": 19,
   "metadata": {},
   "outputs": [],
   "source": [
    "def distance(pos_id,cluster_center,zdf):\n",
    "    chucun = []\n",
    "    for row in range(cluster_center.shape[0]):\n",
    "        print(10*\"-\",row,'-'*10)\n",
    "        cut_center = zdf - cluster_center[row,:].reshape(1,1000)\n",
    "        cut_center_sq = np.square(cut_center)\n",
    "        every_dis = pd.Series(np.sqrt(np.sum(cut_center_sq,axis=1)))\n",
    "#         print(every_dis)\n",
    "#         print(every_dis.sort_values())\n",
    "        value1 = every_dis.sort_values().head(5)\n",
    "        print(value1)\n",
    "        Index = value1.index\n",
    "        ID = pos_id[Index]\n",
    "        print(pos_id)\n",
    "        chucun.append(list(ID))\n",
    "    return chucun"
   ]
  },
  {
   "cell_type": "code",
   "execution_count": 20,
   "metadata": {
    "scrolled": true
   },
   "outputs": [
    {
     "name": "stdout",
     "output_type": "stream",
     "text": [
      "---------- 0 ----------\n",
      "31033    0.375404\n",
      "33310    0.375404\n",
      "15019    0.375404\n",
      "34228    0.375404\n",
      "3540     0.375404\n",
      "dtype: float64\n",
      "0        163622\n",
      "1        195909\n",
      "2        157579\n",
      "3        186758\n",
      "4        343151\n",
      "          ...  \n",
      "36555    395115\n",
      "36556    137163\n",
      "36557      8237\n",
      "36558    120101\n",
      "36559    325121\n",
      "Name: PositionId, Length: 36560, dtype: int64\n",
      "---------- 1 ----------\n",
      "33310    0.292949\n",
      "2130     0.292949\n",
      "1835     0.292949\n",
      "21953    0.292949\n",
      "27654    0.292949\n",
      "dtype: float64\n",
      "0        163622\n",
      "1        195909\n",
      "2        157579\n",
      "3        186758\n",
      "4        343151\n",
      "          ...  \n",
      "36555    395115\n",
      "36556    137163\n",
      "36557      8237\n",
      "36558    120101\n",
      "36559    325121\n",
      "Name: PositionId, Length: 36560, dtype: int64\n",
      "---------- 2 ----------\n",
      "27654    0.369295\n",
      "2130     0.369295\n",
      "31033    0.369295\n",
      "1835     0.369295\n",
      "15019    0.369295\n",
      "dtype: float64\n",
      "0        163622\n",
      "1        195909\n",
      "2        157579\n",
      "3        186758\n",
      "4        343151\n",
      "          ...  \n",
      "36555    395115\n",
      "36556    137163\n",
      "36557      8237\n",
      "36558    120101\n",
      "36559    325121\n",
      "Name: PositionId, Length: 36560, dtype: int64\n",
      "---------- 3 ----------\n",
      "3540     0.425311\n",
      "34228    0.425311\n",
      "2130     0.425311\n",
      "21953    0.425311\n",
      "31033    0.425311\n",
      "dtype: float64\n",
      "0        163622\n",
      "1        195909\n",
      "2        157579\n",
      "3        186758\n",
      "4        343151\n",
      "          ...  \n",
      "36555    395115\n",
      "36556    137163\n",
      "36557      8237\n",
      "36558    120101\n",
      "36559    325121\n",
      "Name: PositionId, Length: 36560, dtype: int64\n"
     ]
    }
   ],
   "source": [
    "chuc = distance(df3['PositionId'],mnkmeans.cluster_centers_,zdf)"
   ]
  },
  {
   "cell_type": "code",
   "execution_count": 21,
   "metadata": {},
   "outputs": [
    {
     "data": {
      "text/plain": [
       "[[109736, 376834, 266792, 264504, 32170],\n",
       " [376834, 266245, 370793, 360191, 218961],\n",
       " [218961, 266245, 109736, 370793, 266792],\n",
       " [32170, 264504, 266245, 360191, 109736]]"
      ]
     },
     "execution_count": 21,
     "metadata": {},
     "output_type": "execute_result"
    }
   ],
   "source": [
    "chuc"
   ]
  },
  {
   "cell_type": "code",
   "execution_count": 33,
   "metadata": {},
   "outputs": [
    {
     "data": {
      "text/plain": [
       "[[109736, 376834, 266792, 264504, 32170],\n",
       " [376834, 266245, 370793, 360191, 218961],\n",
       " [218961, 266245, 109736, 370793, 266792],\n",
       " [32170, 264504, 266245, 360191, 109736]]"
      ]
     },
     "execution_count": 33,
     "metadata": {},
     "output_type": "execute_result"
    }
   ],
   "source": [
    "df3['PositionId'][25138]\n",
    "[i for i in chuc[0],chuc[1],chuc[2],chuc[3]]"
   ]
  },
  {
   "cell_type": "code",
   "execution_count": 35,
   "metadata": {},
   "outputs": [
    {
     "data": {
      "text/html": [
       "<div>\n",
       "<style scoped>\n",
       "    .dataframe tbody tr th:only-of-type {\n",
       "        vertical-align: middle;\n",
       "    }\n",
       "\n",
       "    .dataframe tbody tr th {\n",
       "        vertical-align: top;\n",
       "    }\n",
       "\n",
       "    .dataframe thead th {\n",
       "        text-align: right;\n",
       "    }\n",
       "</style>\n",
       "<table border=\"1\" class=\"dataframe\">\n",
       "  <thead>\n",
       "    <tr style=\"text-align: right;\">\n",
       "      <th></th>\n",
       "      <th>PositionId</th>\n",
       "      <th>类别</th>\n",
       "      <th>IndustryField</th>\n",
       "      <th>PositionType</th>\n",
       "    </tr>\n",
       "  </thead>\n",
       "  <tbody>\n",
       "    <tr>\n",
       "      <th>1835</th>\n",
       "      <td>370793</td>\n",
       "      <td>1</td>\n",
       "      <td>数据服务 · 招聘</td>\n",
       "      <td>后端开发</td>\n",
       "    </tr>\n",
       "    <tr>\n",
       "      <th>2130</th>\n",
       "      <td>266245</td>\n",
       "      <td>1</td>\n",
       "      <td>企业服务</td>\n",
       "      <td>后端开发</td>\n",
       "    </tr>\n",
       "    <tr>\n",
       "      <th>3540</th>\n",
       "      <td>32170</td>\n",
       "      <td>1</td>\n",
       "      <td>电子商务 · O2O</td>\n",
       "      <td>后端开发</td>\n",
       "    </tr>\n",
       "    <tr>\n",
       "      <th>15019</th>\n",
       "      <td>266792</td>\n",
       "      <td>1</td>\n",
       "      <td>电子商务</td>\n",
       "      <td>编辑</td>\n",
       "    </tr>\n",
       "    <tr>\n",
       "      <th>21953</th>\n",
       "      <td>360191</td>\n",
       "      <td>1</td>\n",
       "      <td>医疗健康 · 数据服务</td>\n",
       "      <td>后端开发</td>\n",
       "    </tr>\n",
       "    <tr>\n",
       "      <th>27654</th>\n",
       "      <td>218961</td>\n",
       "      <td>1</td>\n",
       "      <td>移动互联网</td>\n",
       "      <td>移动开发</td>\n",
       "    </tr>\n",
       "    <tr>\n",
       "      <th>31033</th>\n",
       "      <td>109736</td>\n",
       "      <td>1</td>\n",
       "      <td>移动互联网 · O2O</td>\n",
       "      <td>行政</td>\n",
       "    </tr>\n",
       "    <tr>\n",
       "      <th>33310</th>\n",
       "      <td>376834</td>\n",
       "      <td>1</td>\n",
       "      <td>移动互联网 · 招聘</td>\n",
       "      <td>移动开发</td>\n",
       "    </tr>\n",
       "    <tr>\n",
       "      <th>34228</th>\n",
       "      <td>264504</td>\n",
       "      <td>1</td>\n",
       "      <td>教育</td>\n",
       "      <td>视觉设计</td>\n",
       "    </tr>\n",
       "  </tbody>\n",
       "</table>\n",
       "</div>"
      ],
      "text/plain": [
       "       PositionId  类别 IndustryField PositionType\n",
       "1835       370793   1     数据服务 · 招聘         后端开发\n",
       "2130       266245   1          企业服务         后端开发\n",
       "3540        32170   1    电子商务 · O2O         后端开发\n",
       "15019      266792   1          电子商务           编辑\n",
       "21953      360191   1   医疗健康 · 数据服务         后端开发\n",
       "27654      218961   1         移动互联网         移动开发\n",
       "31033      109736   1   移动互联网 · O2O           行政\n",
       "33310      376834   1    移动互联网 · 招聘         移动开发\n",
       "34228      264504   1            教育         视觉设计"
      ]
     },
     "execution_count": 35,
     "metadata": {},
     "output_type": "execute_result"
    }
   ],
   "source": [
    "df3[df3['PositionId'].isin(chuc[0])|df3['PositionId'].isin(chuc[1])|df3['PositionId'].isin(chuc[2])|df3['PositionId'].isin(chuc[3])]"
   ]
  },
  {
   "cell_type": "code",
   "execution_count": 45,
   "metadata": {},
   "outputs": [],
   "source": [
    "df3[df3['PositionId'].isin(chuc[1])][['PositionType']].value_counts()"
   ]
  },
  {
   "cell_type": "code",
   "execution_count": 44,
   "metadata": {},
   "outputs": [],
   "source": [
    "df3[df3['PositionId'].isin(chuc[0])][['PositionType']].value_counts()"
   ]
  },
  {
   "cell_type": "code",
   "execution_count": 43,
   "metadata": {},
   "outputs": [],
   "source": [
    "df3[df3['PositionId'].isin(chuc[2])][['PositionType']].value_counts()"
   ]
  },
  {
   "cell_type": "code",
   "execution_count": 42,
   "metadata": {},
   "outputs": [],
   "source": [
    "df3[df3['PositionId'].isin(chuc[3])][['PositionType']].value_counts()"
   ]
  },
  {
   "cell_type": "code",
   "execution_count": null,
   "metadata": {},
   "outputs": [],
   "source": []
  }
 ],
 "metadata": {
  "kernelspec": {
   "display_name": "Python 3",
   "language": "python",
   "name": "python3"
  },
  "language_info": {
   "codemirror_mode": {
    "name": "ipython",
    "version": 3
   },
   "file_extension": ".py",
   "mimetype": "text/x-python",
   "name": "python",
   "nbconvert_exporter": "python",
   "pygments_lexer": "ipython3",
   "version": "3.6.5"
  }
 },
 "nbformat": 4,
 "nbformat_minor": 2
}
